{
  "nbformat": 4,
  "nbformat_minor": 0,
  "metadata": {
    "colab": {
      "provenance": []
    },
    "kernelspec": {
      "name": "python3",
      "display_name": "Python 3"
    },
    "language_info": {
      "name": "python"
    }
  },
  "cells": [
    {
      "cell_type": "code",
      "source": [
        "# Assignment 3"
      ],
      "metadata": {
        "id": "oIVA3g227R7h"
      },
      "execution_count": 1,
      "outputs": []
    },
    {
      "cell_type": "code",
      "source": [],
      "metadata": {
        "id": "bodtgq3b7VJh"
      },
      "execution_count": 1,
      "outputs": []
    },
    {
      "cell_type": "markdown",
      "source": [
        "Q1. Which keyword is used to create a function? Create a function to return a list of odd numbers in the\n",
        "range of 1 to 25."
      ],
      "metadata": {
        "id": "SFXkFz6m7ZVK"
      }
    },
    {
      "cell_type": "code",
      "source": [
        "def generate_odd_numbers():\n",
        "  a = 1\n",
        "  for i in range(13):\n",
        "    yield a\n",
        "    a += 2\n",
        "\n",
        "odd_numbers = generate_odd_numbers()\n",
        "print(list(odd_numbers))"
      ],
      "metadata": {
        "colab": {
          "base_uri": "https://localhost:8080/"
        },
        "id": "ISfbBjlyW-C0",
        "outputId": "fa322f18-78b1-44be-e720-2bf06a6d6a1a"
      },
      "execution_count": 2,
      "outputs": [
        {
          "output_type": "stream",
          "name": "stdout",
          "text": [
            "[1, 3, 5, 7, 9, 11, 13, 15, 17, 19, 21, 23, 25]\n"
          ]
        }
      ]
    },
    {
      "cell_type": "code",
      "source": [],
      "metadata": {
        "id": "7jhdwq_5XBrT"
      },
      "execution_count": 2,
      "outputs": []
    },
    {
      "cell_type": "markdown",
      "source": [
        "Q2. Why *args and **kwargs is used in some functions? Create a function each for *args and **kwargs\n",
        "to demonstrate their use."
      ],
      "metadata": {
        "id": "RwkRa7yvXhl6"
      }
    },
    {
      "cell_type": "code",
      "source": [
        "def print_args(*args):\n",
        "  for arg in args:\n",
        "    print(arg)\n",
        "\n",
        "print_args(1, 2, 3)"
      ],
      "metadata": {
        "colab": {
          "base_uri": "https://localhost:8080/"
        },
        "id": "x1bgOUFFXiFR",
        "outputId": "47d39559-7583-4893-a063-7c1263910a97"
      },
      "execution_count": 3,
      "outputs": [
        {
          "output_type": "stream",
          "name": "stdout",
          "text": [
            "1\n",
            "2\n",
            "3\n"
          ]
        }
      ]
    },
    {
      "cell_type": "code",
      "source": [
        "def print_kwargs(**kwargs):\n",
        "  for key,value in kwargs.items():\n",
        "    print(f\"key: {key}, value: {value}\")\n",
        "\n",
        "print_kwargs(name=\"sonu\", age=23)"
      ],
      "metadata": {
        "colab": {
          "base_uri": "https://localhost:8080/"
        },
        "id": "_hDmGTZPX_Yi",
        "outputId": "af1c45f3-9682-4b81-cbc3-545f39f33ea4"
      },
      "execution_count": 4,
      "outputs": [
        {
          "output_type": "stream",
          "name": "stdout",
          "text": [
            "key: name, value: sonu\n",
            "key: age, value: 23\n"
          ]
        }
      ]
    },
    {
      "cell_type": "markdown",
      "source": [],
      "metadata": {
        "id": "3sWoHCoSY0F5"
      }
    },
    {
      "cell_type": "code",
      "source": [],
      "metadata": {
        "id": "D-bp5siyYEDX"
      },
      "execution_count": 4,
      "outputs": []
    },
    {
      "cell_type": "markdown",
      "source": [
        "Q3. What is an iterator in python? Name the method used to initialise the iterator object and the method\n",
        "used for iteration. Use these methods to print the first five elements of the given list [2, 4, 6, 8, 10, 12, 14,\n",
        "16, 18, 20]."
      ],
      "metadata": {
        "id": "ZS4Sr02RYqlr"
      }
    },
    {
      "cell_type": "code",
      "source": [
        "# iterator is used to iterate in python\n",
        "list1 = [2, 4, 6, 8, 10, 12, 14, 16, 18, 20]\n",
        "iterator = iter(list1)\n",
        "for i in range(5):\n",
        "  print(next(iterator))"
      ],
      "metadata": {
        "colab": {
          "base_uri": "https://localhost:8080/"
        },
        "id": "PY007oF2YrBe",
        "outputId": "a50aa189-cc07-4e58-c7e7-39870f6de6d3"
      },
      "execution_count": 5,
      "outputs": [
        {
          "output_type": "stream",
          "name": "stdout",
          "text": [
            "2\n",
            "4\n",
            "6\n",
            "8\n",
            "10\n"
          ]
        }
      ]
    },
    {
      "cell_type": "code",
      "source": [],
      "metadata": {
        "id": "qE3nXlY6c3EV"
      },
      "execution_count": 5,
      "outputs": []
    },
    {
      "cell_type": "markdown",
      "source": [
        "Q4. What is a generator function in python? Why yield keyword is used? Give an example of a generator\n",
        "function."
      ],
      "metadata": {
        "id": "efd7i2Kuc6D2"
      }
    },
    {
      "cell_type": "code",
      "source": [
        "def generate_even_numbers():\n",
        "  a = 0\n",
        "  for i in range(10):\n",
        "    yield a\n",
        "    a += 2\n",
        "\n",
        "even_numbers = generate_even_numbers()\n",
        "print(list(even_numbers))"
      ],
      "metadata": {
        "id": "8UWIz_ONc6fE",
        "colab": {
          "base_uri": "https://localhost:8080/"
        },
        "outputId": "dffa5e9b-141d-4e82-d29b-bcd3d4c30807"
      },
      "execution_count": 2,
      "outputs": [
        {
          "output_type": "stream",
          "name": "stdout",
          "text": [
            "[0, 2, 4, 6, 8, 10, 12, 14, 16, 18]\n"
          ]
        }
      ]
    },
    {
      "cell_type": "code",
      "source": [],
      "metadata": {
        "id": "bpeMpbZzc8SU"
      },
      "execution_count": 2,
      "outputs": []
    },
    {
      "cell_type": "markdown",
      "source": [
        "Q5. Create a generator function for prime numbers less than 1000. Use the next() method to print the\n",
        "first 20 prime numbers."
      ],
      "metadata": {
        "id": "X_53YAB3dBqg"
      }
    },
    {
      "cell_type": "code",
      "source": [
        "def generate_prime_numbers():\n",
        "  for num in range(2, 1000):\n",
        "    is_prime = True\n",
        "    for i in range(2, int(num ** 0.5) + 1):\n",
        "      if num % i == 0:\n",
        "        is_prime = False\n",
        "        break\n",
        "    if is_prime:\n",
        "      yield num\n",
        "\n",
        "prime_number = list(generate_prime_numbers())\n",
        "prime_numbers = generate_prime_numbers()\n",
        "print(prime_number)\n",
        "for i in range(20):\n",
        "  print(next(prime_numbers))"
      ],
      "metadata": {
        "id": "tFvYU1yWdCJd",
        "colab": {
          "base_uri": "https://localhost:8080/"
        },
        "outputId": "3f0acb4b-4194-47e4-9020-5cc0b1cedaca"
      },
      "execution_count": 8,
      "outputs": [
        {
          "output_type": "stream",
          "name": "stdout",
          "text": [
            "[2, 3, 5, 7, 11, 13, 17, 19, 23, 29, 31, 37, 41, 43, 47, 53, 59, 61, 67, 71, 73, 79, 83, 89, 97, 101, 103, 107, 109, 113, 127, 131, 137, 139, 149, 151, 157, 163, 167, 173, 179, 181, 191, 193, 197, 199, 211, 223, 227, 229, 233, 239, 241, 251, 257, 263, 269, 271, 277, 281, 283, 293, 307, 311, 313, 317, 331, 337, 347, 349, 353, 359, 367, 373, 379, 383, 389, 397, 401, 409, 419, 421, 431, 433, 439, 443, 449, 457, 461, 463, 467, 479, 487, 491, 499, 503, 509, 521, 523, 541, 547, 557, 563, 569, 571, 577, 587, 593, 599, 601, 607, 613, 617, 619, 631, 641, 643, 647, 653, 659, 661, 673, 677, 683, 691, 701, 709, 719, 727, 733, 739, 743, 751, 757, 761, 769, 773, 787, 797, 809, 811, 821, 823, 827, 829, 839, 853, 857, 859, 863, 877, 881, 883, 887, 907, 911, 919, 929, 937, 941, 947, 953, 967, 971, 977, 983, 991, 997]\n",
            "2\n",
            "3\n",
            "5\n",
            "7\n",
            "11\n",
            "13\n",
            "17\n",
            "19\n",
            "23\n",
            "29\n",
            "31\n",
            "37\n",
            "41\n",
            "43\n",
            "47\n",
            "53\n",
            "59\n",
            "61\n",
            "67\n",
            "71\n"
          ]
        }
      ]
    },
    {
      "cell_type": "code",
      "source": [],
      "metadata": {
        "id": "PvEWzVMUdbUN"
      },
      "execution_count": null,
      "outputs": []
    },
    {
      "cell_type": "markdown",
      "source": [
        "Q6. Write a python program to print the first 10 Fibonacci numbers using a while loop."
      ],
      "metadata": {
        "id": "Kh43JOxnfKGI"
      }
    },
    {
      "cell_type": "code",
      "source": [
        "def fibonacci():\n",
        "  a, b = 0, 1\n",
        "  i = 1\n",
        "  while i <= 10:\n",
        "    yield a\n",
        "    a, b = b, a+b\n",
        "    i += 1\n",
        "fibo_num = list(fibonacci())\n",
        "print(fibo_num)"
      ],
      "metadata": {
        "colab": {
          "base_uri": "https://localhost:8080/"
        },
        "id": "t9RDAuX0fOL5",
        "outputId": "cc553ff0-57d1-4161-dd42-aecf61b22660"
      },
      "execution_count": 11,
      "outputs": [
        {
          "output_type": "stream",
          "name": "stdout",
          "text": [
            "[0, 1, 1, 2, 3, 5, 8, 13, 21, 34]\n"
          ]
        }
      ]
    },
    {
      "cell_type": "markdown",
      "source": [],
      "metadata": {
        "id": "k6rLA5B6eUIg"
      }
    },
    {
      "cell_type": "markdown",
      "source": [
        "Q7. Write a List Comprehension to iterate through the given string: ‘pwskills’.\n",
        "Expected output: ['p', 'w', 's', 'k', 'i', 'l', 'l', 's']"
      ],
      "metadata": {
        "id": "drSK4wfpfp9V"
      }
    },
    {
      "cell_type": "code",
      "source": [
        "list1 = [i for i in 'pwskills']\n",
        "print(list1)"
      ],
      "metadata": {
        "colab": {
          "base_uri": "https://localhost:8080/"
        },
        "id": "S91TJjN0fr3j",
        "outputId": "9202cf6a-51b3-40de-a285-5f69d89dc6e2"
      },
      "execution_count": 12,
      "outputs": [
        {
          "output_type": "stream",
          "name": "stdout",
          "text": [
            "['p', 'w', 's', 'k', 'i', 'l', 'l', 's']\n"
          ]
        }
      ]
    },
    {
      "cell_type": "code",
      "source": [],
      "metadata": {
        "id": "Y_jDBgrsfzxH"
      },
      "execution_count": null,
      "outputs": []
    },
    {
      "cell_type": "markdown",
      "source": [
        "Q8. Write a python program to check whether a given number is Palindrome or not using a while loop."
      ],
      "metadata": {
        "id": "9DsoQnF8f3Yr"
      }
    },
    {
      "cell_type": "code",
      "source": [
        "def pallindrom(n):\n",
        "  return str(n) == str(n)[::-1]\n",
        "print(pallindrom(1234321))"
      ],
      "metadata": {
        "colab": {
          "base_uri": "https://localhost:8080/"
        },
        "id": "q7vBFFUkf33s",
        "outputId": "8621568b-d9e4-4edb-b88a-081cabb0d9a3"
      },
      "execution_count": 13,
      "outputs": [
        {
          "output_type": "stream",
          "name": "stdout",
          "text": [
            "True\n"
          ]
        }
      ]
    },
    {
      "cell_type": "code",
      "source": [],
      "metadata": {
        "id": "PFyA0J0Rg9ak"
      },
      "execution_count": null,
      "outputs": []
    },
    {
      "cell_type": "markdown",
      "source": [
        "Q9. Write a code to print odd numbers from 1 to 100 using list comprehension."
      ],
      "metadata": {
        "id": "JHV8ObHxhAud"
      }
    },
    {
      "cell_type": "code",
      "source": [
        "def print_odd():\n",
        "  return [i for i in range(1, 101) if i % 2 != 0]\n",
        "print(print_odd())\n"
      ],
      "metadata": {
        "colab": {
          "base_uri": "https://localhost:8080/"
        },
        "id": "m3Ha25OyhBHf",
        "outputId": "45ded367-0dc0-476d-bccd-4ccf3d3ae5d1"
      },
      "execution_count": 14,
      "outputs": [
        {
          "output_type": "stream",
          "name": "stdout",
          "text": [
            "[1, 3, 5, 7, 9, 11, 13, 15, 17, 19, 21, 23, 25, 27, 29, 31, 33, 35, 37, 39, 41, 43, 45, 47, 49, 51, 53, 55, 57, 59, 61, 63, 65, 67, 69, 71, 73, 75, 77, 79, 81, 83, 85, 87, 89, 91, 93, 95, 97, 99]\n"
          ]
        }
      ]
    },
    {
      "cell_type": "code",
      "source": [],
      "metadata": {
        "id": "5y7raRJPhEsE"
      },
      "execution_count": null,
      "outputs": []
    }
  ]
}