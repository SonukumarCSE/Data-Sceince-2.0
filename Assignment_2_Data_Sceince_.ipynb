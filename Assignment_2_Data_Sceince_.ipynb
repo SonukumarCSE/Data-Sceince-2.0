{
  "nbformat": 4,
  "nbformat_minor": 0,
  "metadata": {
    "colab": {
      "provenance": []
    },
    "kernelspec": {
      "name": "python3",
      "display_name": "Python 3"
    },
    "language_info": {
      "name": "python"
    }
  },
  "cells": [
    {
      "cell_type": "code",
      "source": [
        "# Assignment 2"
      ],
      "metadata": {
        "id": "SiA7Snn9maa_"
      },
      "execution_count": 20,
      "outputs": []
    },
    {
      "cell_type": "code",
      "source": [],
      "metadata": {
        "id": "nTKbipS_mh3j"
      },
      "execution_count": null,
      "outputs": []
    },
    {
      "cell_type": "markdown",
      "source": [
        "Q1. How do you comment code in Python? What are the different types of comments?"
      ],
      "metadata": {
        "id": "DK9nnjRsmwQO"
      }
    },
    {
      "cell_type": "code",
      "source": [
        "var = 10 # this is a single line comment"
      ],
      "metadata": {
        "id": "rfWR5vu9mw0z"
      },
      "execution_count": 22,
      "outputs": []
    },
    {
      "cell_type": "code",
      "source": [
        "# all type of comment in python\n",
        "var = 10\n",
        "\"\"\"\n",
        "this is a multi line comment\n",
        "\"\"\""
      ],
      "metadata": {
        "colab": {
          "base_uri": "https://localhost:8080/",
          "height": 36
        },
        "id": "pTd63PDNm0LM",
        "outputId": "d9b624d5-8007-41ca-bd1e-40a1fad4024b"
      },
      "execution_count": 23,
      "outputs": [
        {
          "output_type": "execute_result",
          "data": {
            "text/plain": [
              "'\\nthis is a multi line comment\\n'"
            ],
            "application/vnd.google.colaboratory.intrinsic+json": {
              "type": "string"
            }
          },
          "metadata": {},
          "execution_count": 23
        }
      ]
    },
    {
      "cell_type": "code",
      "source": [],
      "metadata": {
        "id": "aAPqzRCRnCGK"
      },
      "execution_count": null,
      "outputs": []
    },
    {
      "cell_type": "markdown",
      "source": [
        "Q2. What are variables in Python? How do you declare and assign values to variables?"
      ],
      "metadata": {
        "id": "UGrqqV2SnFiw"
      }
    },
    {
      "cell_type": "code",
      "source": [
        "var = 10\n",
        "var1 = 10.2\n",
        "var2 = \"data\"\n",
        "var3 = [1,2,3]\n",
        "var4 = (1,2,3)\n",
        "var5 = {1,2,3}\n",
        "var6 = True\n",
        "var7 = False"
      ],
      "metadata": {
        "id": "gK7pCGpUnGGv"
      },
      "execution_count": 24,
      "outputs": []
    },
    {
      "cell_type": "code",
      "source": [],
      "metadata": {
        "id": "mOiQiN6ynNJE"
      },
      "execution_count": null,
      "outputs": []
    },
    {
      "cell_type": "markdown",
      "source": [
        "Q3. How do you convert one data type to another in Python?"
      ],
      "metadata": {
        "id": "bGgchpJvnPnH"
      }
    },
    {
      "cell_type": "code",
      "source": [
        "var = 10\n",
        "type(var)"
      ],
      "metadata": {
        "colab": {
          "base_uri": "https://localhost:8080/"
        },
        "id": "0d5nMkXunQJz",
        "outputId": "ecf8a731-6c1e-4ac1-b25b-6d40f122675f"
      },
      "execution_count": 25,
      "outputs": [
        {
          "output_type": "execute_result",
          "data": {
            "text/plain": [
              "int"
            ]
          },
          "metadata": {},
          "execution_count": 25
        }
      ]
    },
    {
      "cell_type": "code",
      "source": [
        "var1 = float(var)\n",
        "type(var1)"
      ],
      "metadata": {
        "colab": {
          "base_uri": "https://localhost:8080/"
        },
        "id": "Y_d8vJLHnoST",
        "outputId": "94fe8fc4-cf8f-4f07-cb9d-ba0254dce712"
      },
      "execution_count": 26,
      "outputs": [
        {
          "output_type": "execute_result",
          "data": {
            "text/plain": [
              "float"
            ]
          },
          "metadata": {},
          "execution_count": 26
        }
      ]
    },
    {
      "cell_type": "code",
      "source": [],
      "metadata": {
        "id": "dlYd_OwbnsLy"
      },
      "execution_count": null,
      "outputs": []
    },
    {
      "cell_type": "markdown",
      "source": [
        "Q4. How do you write and execute a Python script from the command line?"
      ],
      "metadata": {
        "id": "yiHoP-QynvPN"
      }
    },
    {
      "cell_type": "code",
      "source": [
        "# prompt: Q4. How do you write and execute a Python script from the command line?\n",
        "\n",
        "# Create a Python script named `hello.py` with the following contents:\n",
        "\n",
        "print(\"Hello, world!\")\n",
        "\n",
        "# Save the script to your computer.\n",
        "\n",
        "# Open a terminal window and navigate to the directory where you saved the script.\n",
        "\n",
        "# Run the script using the following command:\n",
        "\n",
        "!python hello.py\n",
        "\n",
        "# This will print the following output to the terminal window:\n",
        "\n",
        "#Hello, world!\n"
      ],
      "metadata": {
        "colab": {
          "base_uri": "https://localhost:8080/"
        },
        "id": "qs_4dh9WnvwK",
        "outputId": "229d6d78-28e5-4227-b2db-acac1783da4d"
      },
      "execution_count": 28,
      "outputs": [
        {
          "output_type": "stream",
          "name": "stdout",
          "text": [
            "Hello, world!\n",
            "python3: can't open file '/content/hello.py': [Errno 2] No such file or directory\n"
          ]
        }
      ]
    },
    {
      "cell_type": "code",
      "source": [],
      "metadata": {
        "id": "qEvHosvYn8hC"
      },
      "execution_count": null,
      "outputs": []
    },
    {
      "cell_type": "markdown",
      "source": [
        "Q5. Given a list my_list = [1, 2, 3, 4, 5], write the code to slice the list and obtain the sub-list [2, 3]."
      ],
      "metadata": {
        "id": "KyY5xoWZoLgs"
      }
    },
    {
      "cell_type": "code",
      "source": [
        "list1 = [1,2,3,4,5]\n",
        "list1[1:3]"
      ],
      "metadata": {
        "colab": {
          "base_uri": "https://localhost:8080/"
        },
        "id": "IETPo1suoMIx",
        "outputId": "a674397b-8090-4656-8a7f-31d2250d8112"
      },
      "execution_count": 29,
      "outputs": [
        {
          "output_type": "execute_result",
          "data": {
            "text/plain": [
              "[2, 3]"
            ]
          },
          "metadata": {},
          "execution_count": 29
        }
      ]
    },
    {
      "cell_type": "code",
      "source": [],
      "metadata": {
        "id": "SQjap7DZoRbx"
      },
      "execution_count": null,
      "outputs": []
    },
    {
      "cell_type": "markdown",
      "source": [
        "Q6. What is a complex number in mathematics, and how is it represented in Python?"
      ],
      "metadata": {
        "id": "plZUdVUaoUed"
      }
    },
    {
      "cell_type": "code",
      "source": [
        "num = 5 + 3j\n",
        "type(num)"
      ],
      "metadata": {
        "colab": {
          "base_uri": "https://localhost:8080/"
        },
        "id": "ntpkAOgMoU-a",
        "outputId": "cd79eae2-f0c4-424f-b807-1d84d1c1ae37"
      },
      "execution_count": 31,
      "outputs": [
        {
          "output_type": "execute_result",
          "data": {
            "text/plain": [
              "complex"
            ]
          },
          "metadata": {},
          "execution_count": 31
        }
      ]
    },
    {
      "cell_type": "code",
      "source": [
        "print(num.real)\n",
        "print(num.imag)"
      ],
      "metadata": {
        "colab": {
          "base_uri": "https://localhost:8080/"
        },
        "id": "yMHbSTIxoXsN",
        "outputId": "90d2c08c-d8dd-4241-f758-1f85b16ce8dc"
      },
      "execution_count": 33,
      "outputs": [
        {
          "output_type": "stream",
          "name": "stdout",
          "text": [
            "5.0\n",
            "3.0\n"
          ]
        }
      ]
    },
    {
      "cell_type": "code",
      "source": [],
      "metadata": {
        "id": "g0Xr_pLtobsI"
      },
      "execution_count": null,
      "outputs": []
    },
    {
      "cell_type": "markdown",
      "source": [
        "Q7. What is the correct way to declare a variable named age and assign the value 25 to it?"
      ],
      "metadata": {
        "id": "MSBgaLciokDf"
      }
    },
    {
      "cell_type": "code",
      "source": [
        "age = 25\n",
        "print(age)"
      ],
      "metadata": {
        "colab": {
          "base_uri": "https://localhost:8080/"
        },
        "id": "A3Xz4za0okpq",
        "outputId": "bf50b91d-835f-4b14-823f-e73d153264da"
      },
      "execution_count": 34,
      "outputs": [
        {
          "output_type": "stream",
          "name": "stdout",
          "text": [
            "25\n"
          ]
        }
      ]
    },
    {
      "cell_type": "code",
      "source": [],
      "metadata": {
        "id": "ZCoJ8gLoorP5"
      },
      "execution_count": null,
      "outputs": []
    },
    {
      "cell_type": "markdown",
      "source": [
        "Q8. Declare a variable named price and assign the value 9.99 to it. What data type does this variable\n",
        "belong to?"
      ],
      "metadata": {
        "id": "cLr8hxC_otmy"
      }
    },
    {
      "cell_type": "code",
      "source": [
        "price = 9.99\n",
        "print(type(price))"
      ],
      "metadata": {
        "colab": {
          "base_uri": "https://localhost:8080/"
        },
        "id": "UO2IfaMZouNp",
        "outputId": "c5365981-2279-4a88-ea4a-360f33aa23d6"
      },
      "execution_count": 35,
      "outputs": [
        {
          "output_type": "stream",
          "name": "stdout",
          "text": [
            "<class 'float'>\n"
          ]
        }
      ]
    },
    {
      "cell_type": "code",
      "source": [],
      "metadata": {
        "id": "pdVw5c1koyYJ"
      },
      "execution_count": null,
      "outputs": []
    },
    {
      "cell_type": "markdown",
      "source": [
        "Q9. Create a variable named name and assign your full name to it as a string. How would you print the\n",
        "value of this variable?"
      ],
      "metadata": {
        "id": "klSN9UQeo0Y-"
      }
    },
    {
      "cell_type": "code",
      "source": [
        "name = \"sonu\"\n",
        "print(name)\n",
        "print(type(name))"
      ],
      "metadata": {
        "colab": {
          "base_uri": "https://localhost:8080/"
        },
        "id": "ieHln_MHo02o",
        "outputId": "3b78568a-bcae-4b20-e771-b120c851f6f6"
      },
      "execution_count": 36,
      "outputs": [
        {
          "output_type": "stream",
          "name": "stdout",
          "text": [
            "sonu\n",
            "<class 'str'>\n"
          ]
        }
      ]
    },
    {
      "cell_type": "code",
      "source": [],
      "metadata": {
        "id": "a9sS8PPso7wC"
      },
      "execution_count": null,
      "outputs": []
    },
    {
      "cell_type": "markdown",
      "source": [
        "Q10. Given the string \"Hello, World!\", extract the substring \"World\"."
      ],
      "metadata": {
        "id": "Q8FNWGHYpDjf"
      }
    },
    {
      "cell_type": "code",
      "source": [
        "word = \"Hello, World!\"\n",
        "word[7:12]"
      ],
      "metadata": {
        "colab": {
          "base_uri": "https://localhost:8080/",
          "height": 36
        },
        "id": "OAP59h_DpEHI",
        "outputId": "0176de48-4b5b-46f6-b8f4-7e139dbf2398"
      },
      "execution_count": 38,
      "outputs": [
        {
          "output_type": "execute_result",
          "data": {
            "text/plain": [
              "'World'"
            ],
            "application/vnd.google.colaboratory.intrinsic+json": {
              "type": "string"
            }
          },
          "metadata": {},
          "execution_count": 38
        }
      ]
    },
    {
      "cell_type": "code",
      "source": [],
      "metadata": {
        "id": "lq89oTSCpKfh"
      },
      "execution_count": null,
      "outputs": []
    },
    {
      "cell_type": "markdown",
      "source": [
        "Q11. Create a variable named \"is_student\" and assign it a boolean value indicating whether you are\n",
        "currently a student or not."
      ],
      "metadata": {
        "id": "mX5RCHUapRJG"
      }
    },
    {
      "cell_type": "code",
      "source": [
        "is_student = True\n",
        "print(type(is_student))\n",
        "print(is_student)"
      ],
      "metadata": {
        "colab": {
          "base_uri": "https://localhost:8080/"
        },
        "id": "RZBI8H_-pRqh",
        "outputId": "337535cd-6e8f-42cf-fa2f-ccfc408d0618"
      },
      "execution_count": 40,
      "outputs": [
        {
          "output_type": "stream",
          "name": "stdout",
          "text": [
            "<class 'bool'>\n",
            "True\n"
          ]
        }
      ]
    },
    {
      "cell_type": "code",
      "source": [],
      "metadata": {
        "id": "_Ac-5YG6pZOR"
      },
      "execution_count": null,
      "outputs": []
    }
  ]
}