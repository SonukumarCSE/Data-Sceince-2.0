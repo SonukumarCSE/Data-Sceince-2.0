{
  "nbformat": 4,
  "nbformat_minor": 0,
  "metadata": {
    "colab": {
      "provenance": []
    },
    "kernelspec": {
      "name": "python3",
      "display_name": "Python 3"
    },
    "language_info": {
      "name": "python"
    }
  },
  "cells": [
    {
      "cell_type": "code",
      "source": [],
      "metadata": {
        "id": "fz5tA9FQNt3g"
      },
      "execution_count": null,
      "outputs": []
    },
    {
      "cell_type": "markdown",
      "source": [
        "Q1. What is Abstraction in OOps? Explain with an example."
      ],
      "metadata": {
        "id": "fXdQFpsVNvs3"
      }
    },
    {
      "cell_type": "code",
      "source": [
        "import abc\n",
        "class student:\n",
        "  @abc.abstractmethod\n",
        "  def student_details(self):\n",
        "    pass\n",
        "  @abc.abstractmethod\n",
        "  def student_assignment(self):\n",
        "    pass\n",
        "  @abc.abstractmethod\n",
        "  def student_marks(self):\n",
        "    pass"
      ],
      "metadata": {
        "id": "NUJBmP-0NwLM"
      },
      "execution_count": 35,
      "outputs": []
    },
    {
      "cell_type": "code",
      "source": [
        "class student_details(student):\n",
        "  def student_details(self):\n",
        "    print(\"student details\")\n",
        "  def student_assignment(self):\n",
        "    print(\"student assignment\")\n",
        "  def student_marks(self):\n",
        "    print(\"student marks\")"
      ],
      "metadata": {
        "id": "hFBdy6coODi9"
      },
      "execution_count": 36,
      "outputs": []
    },
    {
      "cell_type": "code",
      "source": [
        "st1_details = student_details()"
      ],
      "metadata": {
        "id": "mU1E3yUVOKRH"
      },
      "execution_count": 37,
      "outputs": []
    },
    {
      "cell_type": "code",
      "source": [
        "st1_details.student_details()"
      ],
      "metadata": {
        "colab": {
          "base_uri": "https://localhost:8080/"
        },
        "id": "Pt2NXoYFONde",
        "outputId": "64c2667b-9faa-413e-9994-1e18e7abc0e1"
      },
      "execution_count": 40,
      "outputs": [
        {
          "output_type": "stream",
          "name": "stdout",
          "text": [
            "student details\n"
          ]
        }
      ]
    },
    {
      "cell_type": "code",
      "source": [],
      "metadata": {
        "id": "HhXj7rtuOQT-"
      },
      "execution_count": null,
      "outputs": []
    },
    {
      "cell_type": "markdown",
      "source": [
        "Q2. Differentiate between Abstraction and Encapsulation. Explain with an example."
      ],
      "metadata": {
        "id": "PBrTmkYkOkuR"
      }
    },
    {
      "cell_type": "code",
      "source": [
        "# abstraction is used to set a structure of class it is used to make big project and it is very easy for other developer to work upon it\n",
        "# while encapsultion is the process which hide the data from the object and provid security and privacy to the method and attributes"
      ],
      "metadata": {
        "id": "dyk5XgZOOlSm"
      },
      "execution_count": 41,
      "outputs": []
    },
    {
      "cell_type": "code",
      "source": [],
      "metadata": {
        "id": "iTK2pFjmO6mP"
      },
      "execution_count": null,
      "outputs": []
    },
    {
      "cell_type": "markdown",
      "source": [
        "Q3. What is abc module in python? Why is it used?"
      ],
      "metadata": {
        "id": "yhuWpjmnPAzX"
      }
    },
    {
      "cell_type": "code",
      "source": [
        "# abc is used for abstract class which help to create a structure of the project and define all the method and easy to work on each method"
      ],
      "metadata": {
        "id": "TUJaiPG7PBNF"
      },
      "execution_count": 42,
      "outputs": []
    },
    {
      "cell_type": "code",
      "source": [],
      "metadata": {
        "id": "bhIq46olPPN3"
      },
      "execution_count": null,
      "outputs": []
    },
    {
      "cell_type": "markdown",
      "source": [
        "Q4. How can we achieve data abstraction?"
      ],
      "metadata": {
        "id": "-zbTLEJ4PRUA"
      }
    },
    {
      "cell_type": "code",
      "source": [
        "import abc\n",
        "class student:\n",
        "  @abc.abstractmethod\n",
        "  def student_details(self):\n",
        "    pass\n",
        "  @abc.abstractmethod\n",
        "  def student_assignment(self):\n",
        "    pass\n",
        "  @abc.abstractmethod\n",
        "  def student_marks(self):\n",
        "    pass"
      ],
      "metadata": {
        "id": "XqVU8B2fPRte"
      },
      "execution_count": 43,
      "outputs": []
    },
    {
      "cell_type": "code",
      "source": [],
      "metadata": {
        "id": "1kORBeYyPUAW"
      },
      "execution_count": null,
      "outputs": []
    },
    {
      "cell_type": "markdown",
      "source": [
        "Q5. Can we create an instance of an abstract class? Explain your answer."
      ],
      "metadata": {
        "id": "S3aGV3ThPWNs"
      }
    },
    {
      "cell_type": "code",
      "source": [
        "class student_details(student):\n",
        "  def student_details(self):\n",
        "    print(\"student details\")\n",
        "  def student_assignment(self):\n",
        "    print(\"student assignment\")\n",
        "  def student_marks(self):\n",
        "    print(\"student marks\")"
      ],
      "metadata": {
        "id": "ptm0twn3PWl-"
      },
      "execution_count": 44,
      "outputs": []
    },
    {
      "cell_type": "code",
      "source": [],
      "metadata": {
        "id": "efOUKCisPYeO"
      },
      "execution_count": null,
      "outputs": []
    }
  ]
}