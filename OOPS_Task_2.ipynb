{
  "nbformat": 4,
  "nbformat_minor": 0,
  "metadata": {
    "colab": {
      "provenance": []
    },
    "kernelspec": {
      "name": "python3",
      "display_name": "Python 3"
    },
    "language_info": {
      "name": "python"
    }
  },
  "cells": [
    {
      "cell_type": "markdown",
      "source": [
        "Q1. Explain Class and Object with respect to Object-Oriented Programming. Give a suitable example."
      ],
      "metadata": {
        "id": "f_J-usblIqBz"
      }
    },
    {
      "cell_type": "code",
      "source": [
        "class car:\n",
        "\n",
        "  def __init__(self,name,year,model):\n",
        "    self.name = name\n",
        "    self.year = year\n",
        "    self.model = model\n",
        "  def get_details(self):\n",
        "    return f\"car name: {self.name} year: {self.year} model: {self.model}\"\n",
        "  def set_details(self,name,year,model):\n",
        "    self.name = name\n",
        "    self.year = year\n",
        "    self.model = model\n",
        "    return \"done\"\n"
      ],
      "metadata": {
        "id": "vgCidqOcIrfr"
      },
      "execution_count": 9,
      "outputs": []
    },
    {
      "cell_type": "code",
      "source": [
        "car1 = car(\"alto\",1986,\"new\")\n",
        "car1.get_details()"
      ],
      "metadata": {
        "colab": {
          "base_uri": "https://localhost:8080/",
          "height": 36
        },
        "id": "urX6GJj6JXeY",
        "outputId": "06600cd1-bb7e-429d-9459-8b117eda003a"
      },
      "execution_count": 14,
      "outputs": [
        {
          "output_type": "execute_result",
          "data": {
            "text/plain": [
              "'car name: alto year: 1986 model: new'"
            ],
            "application/vnd.google.colaboratory.intrinsic+json": {
              "type": "string"
            }
          },
          "metadata": {},
          "execution_count": 14
        }
      ]
    },
    {
      "cell_type": "code",
      "source": [],
      "metadata": {
        "id": "5YXHH1mLJ9Sx"
      },
      "execution_count": null,
      "outputs": []
    },
    {
      "cell_type": "markdown",
      "source": [
        "Q2. Name the four pillars of OOPs."
      ],
      "metadata": {
        "id": "TRxy1zF4KMqY"
      }
    },
    {
      "cell_type": "code",
      "source": [
        "# the four piller of oops are"
      ],
      "metadata": {
        "id": "yU8Gl91LKNEp"
      },
      "execution_count": 15,
      "outputs": []
    },
    {
      "cell_type": "code",
      "source": [
        "# encapsulation , abstraction , inheritance , polymorphism"
      ],
      "metadata": {
        "id": "LWQn7t5WKPnJ"
      },
      "execution_count": 17,
      "outputs": []
    },
    {
      "cell_type": "code",
      "source": [],
      "metadata": {
        "id": "eRqCWDxwKkOo"
      },
      "execution_count": null,
      "outputs": []
    },
    {
      "cell_type": "markdown",
      "source": [
        "Q3. Explain why the __init__() function is used. Give a suitable example."
      ],
      "metadata": {
        "id": "_iQGpa5eKoXL"
      }
    },
    {
      "cell_type": "code",
      "source": [
        "# for making the constructor and intializing the object"
      ],
      "metadata": {
        "id": "himXBxN8KpHo"
      },
      "execution_count": 18,
      "outputs": []
    },
    {
      "cell_type": "code",
      "source": [
        "class car:\n",
        "\n",
        "  def __init__(self,name,year,model):\n",
        "    self.name = name\n",
        "    self.year = year\n",
        "    self.model = model"
      ],
      "metadata": {
        "id": "fHNm2EzjKurw"
      },
      "execution_count": 19,
      "outputs": []
    },
    {
      "cell_type": "code",
      "source": [
        "\n"
      ],
      "metadata": {
        "id": "xp7OqTDaKyP4"
      },
      "execution_count": null,
      "outputs": []
    },
    {
      "cell_type": "markdown",
      "source": [
        "\n",
        "Q4. Why self is used in OOPs?"
      ],
      "metadata": {
        "id": "UZ_-pVvrK2KF"
      }
    },
    {
      "cell_type": "code",
      "source": [
        "# self is used to bind the function with the object and it is used to call the instance method in the class"
      ],
      "metadata": {
        "id": "fehf3SqbK3qA"
      },
      "execution_count": null,
      "outputs": []
    },
    {
      "cell_type": "markdown",
      "source": [
        "Q5. What is inheritance? Give an example for each type of inheritance."
      ],
      "metadata": {
        "id": "7UY8yEUELN8i"
      }
    },
    {
      "cell_type": "code",
      "source": [
        "# inheritance is the property to inherit the properties of one class to another class basically parent class and child class"
      ],
      "metadata": {
        "id": "NC6LGfKaLOcJ"
      },
      "execution_count": 20,
      "outputs": []
    },
    {
      "cell_type": "code",
      "source": [
        "# different types of inheritances are: single inheritance, multiple inheritance, multilevel inheritance, hierarchical inheritance"
      ],
      "metadata": {
        "id": "MmDwXk3wLVt4"
      },
      "execution_count": 21,
      "outputs": []
    },
    {
      "cell_type": "code",
      "source": [
        "# example of single inheritance"
      ],
      "metadata": {
        "id": "o_Ws_oJSLco4"
      },
      "execution_count": 22,
      "outputs": []
    },
    {
      "cell_type": "code",
      "source": [
        "class parent:\n",
        "  def __init__(self,name,age):\n",
        "    self.name = name\n",
        "    self.age = age"
      ],
      "metadata": {
        "id": "6-LD98HrLfm0"
      },
      "execution_count": 23,
      "outputs": []
    },
    {
      "cell_type": "code",
      "source": [
        "class child(parent):\n",
        "  pass"
      ],
      "metadata": {
        "id": "ulPV6i_FLhtI"
      },
      "execution_count": 24,
      "outputs": []
    },
    {
      "cell_type": "code",
      "source": [
        "child1 = child(\"rahul\",23)"
      ],
      "metadata": {
        "id": "B0Y98jPjLm15"
      },
      "execution_count": 25,
      "outputs": []
    },
    {
      "cell_type": "code",
      "source": [
        "child1.name"
      ],
      "metadata": {
        "colab": {
          "base_uri": "https://localhost:8080/",
          "height": 36
        },
        "id": "NnDI4Q3_LquQ",
        "outputId": "7884d1a3-4386-4ce8-b201-fc7cd61b2fd8"
      },
      "execution_count": 26,
      "outputs": [
        {
          "output_type": "execute_result",
          "data": {
            "text/plain": [
              "'rahul'"
            ],
            "application/vnd.google.colaboratory.intrinsic+json": {
              "type": "string"
            }
          },
          "metadata": {},
          "execution_count": 26
        }
      ]
    },
    {
      "cell_type": "code",
      "source": [
        "child1.age"
      ],
      "metadata": {
        "colab": {
          "base_uri": "https://localhost:8080/"
        },
        "id": "jQuOSyzFLrp3",
        "outputId": "afff3504-acbe-44b5-de84-2bba6831e6c6"
      },
      "execution_count": 27,
      "outputs": [
        {
          "output_type": "execute_result",
          "data": {
            "text/plain": [
              "23"
            ]
          },
          "metadata": {},
          "execution_count": 27
        }
      ]
    },
    {
      "cell_type": "code",
      "source": [
        "# example of multiple inheritance"
      ],
      "metadata": {
        "id": "PrfMifVxLtnI"
      },
      "execution_count": 28,
      "outputs": []
    },
    {
      "cell_type": "code",
      "source": [
        "class Father:\n",
        "    def skills(self):\n",
        "        print(\"Father's skills\")\n",
        "\n",
        "class Mother:\n",
        "    def skills(self):\n",
        "        print(\"Mother's skills\")\n",
        "\n",
        "class Child(Father, Mother):\n",
        "    def skills(self):\n",
        "        super().skills()  # This will call the method from the first superclass in the inheritance order\n",
        "\n",
        "child = Child()\n",
        "child.skills()  # Output: Father's skills\n"
      ],
      "metadata": {
        "colab": {
          "base_uri": "https://localhost:8080/"
        },
        "id": "LAs4kAd-LxGb",
        "outputId": "abed2e49-f61b-4ac7-b1ef-fd881d344ac2"
      },
      "execution_count": 29,
      "outputs": [
        {
          "output_type": "stream",
          "name": "stdout",
          "text": [
            "Father's skills\n"
          ]
        }
      ]
    },
    {
      "cell_type": "code",
      "source": [
        "# example of multilevel inheritance"
      ],
      "metadata": {
        "id": "8yZyyV5qMbkO"
      },
      "execution_count": 30,
      "outputs": []
    },
    {
      "cell_type": "code",
      "source": [
        "class Animal:\n",
        "  def sound(self):\n",
        "    print(\"Animal sound\")\n",
        "\n",
        "class Dog(Animal):\n",
        "  def bark(self):\n",
        "    print(\"Dog barks\")\n",
        "\n",
        "class Cat(Dog):\n",
        "  def meow(self):\n",
        "    print(\"Cat meows\")"
      ],
      "metadata": {
        "id": "YpWxI0yoMzOX"
      },
      "execution_count": 31,
      "outputs": []
    },
    {
      "cell_type": "code",
      "source": [
        "cat1 = Cat()\n",
        "cat1.sound()"
      ],
      "metadata": {
        "colab": {
          "base_uri": "https://localhost:8080/"
        },
        "id": "z6jjT3xOM3MX",
        "outputId": "c2c3bebb-c30f-480c-de3e-ded3ac4816f9"
      },
      "execution_count": 32,
      "outputs": [
        {
          "output_type": "stream",
          "name": "stdout",
          "text": [
            "Animal sound\n"
          ]
        }
      ]
    },
    {
      "cell_type": "code",
      "source": [
        "cat1.bark()"
      ],
      "metadata": {
        "colab": {
          "base_uri": "https://localhost:8080/"
        },
        "id": "rswXvMvAM7VA",
        "outputId": "f5980dbd-689d-4002-8463-04eba88c1092"
      },
      "execution_count": 33,
      "outputs": [
        {
          "output_type": "stream",
          "name": "stdout",
          "text": [
            "Dog barks\n"
          ]
        }
      ]
    },
    {
      "cell_type": "code",
      "source": [
        "cat1.meow()"
      ],
      "metadata": {
        "colab": {
          "base_uri": "https://localhost:8080/"
        },
        "id": "-rXlD_5vM-En",
        "outputId": "a0aa2d4a-d6cc-4259-eed9-538ab28db60d"
      },
      "execution_count": 34,
      "outputs": [
        {
          "output_type": "stream",
          "name": "stdout",
          "text": [
            "Cat meows\n"
          ]
        }
      ]
    },
    {
      "cell_type": "code",
      "source": [],
      "metadata": {
        "id": "WRTXfWgtM_Y3"
      },
      "execution_count": null,
      "outputs": []
    }
  ]
}